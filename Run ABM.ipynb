{
 "cells": [
  {
   "cell_type": "code",
   "execution_count": null,
   "id": "b413297f",
   "metadata": {},
   "outputs": [],
   "source": [
    "import os\n",
    "out_path = os.getcwd() # save current path \n",
    "if not os.path.isdir('demo_quick_start'): # create quick start output directory\n",
    "    os.mkdir('demo_quick_start')"
   ]
  },
  {
   "cell_type": "code",
   "execution_count": null,
   "id": "91d7fb5a",
   "metadata": {},
   "outputs": [],
   "source": [
    "!python run_fireabm.py -nv 10 -sd 1 -epath \"$out_path\" \\\n",
    "-ofd demo_quick_start -strat dist -rg Sta_Rosa_2000.pkl \\\n",
    "-exdsc 'demo_run' -strd 1.0"
   ]
  },
  {
   "cell_type": "code",
   "execution_count": null,
   "id": "3ca11e59",
   "metadata": {},
   "outputs": [],
   "source": []
  }
 ],
 "metadata": {
  "kernelspec": {
   "display_name": "Python 3",
   "language": "python",
   "name": "python3"
  },
  "language_info": {
   "codemirror_mode": {
    "name": "ipython",
    "version": 3
   },
   "file_extension": ".py",
   "mimetype": "text/x-python",
   "name": "python",
   "nbconvert_exporter": "python",
   "pygments_lexer": "ipython3",
   "version": "3.8.12"
  }
 },
 "nbformat": 4,
 "nbformat_minor": 5
}
